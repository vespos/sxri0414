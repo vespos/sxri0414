{
 "cells": [
  {
   "cell_type": "code",
   "execution_count": null,
   "metadata": {},
   "outputs": [
    {
     "data": {
      "text/html": [
       "\n",
       "    <div class=\"bk-root\">\n",
       "        <a href=\"http://bokeh.pydata.org\" target=\"_blank\" class=\"bk-logo bk-logo-small bk-logo-notebook\"></a>\n",
       "        <span id=\"e31e126c-4b67-48a3-ba91-96861b0865c9\">Loading BokehJS ...</span>\n",
       "    </div>"
      ]
     },
     "metadata": {},
     "output_type": "display_data"
    },
    {
     "data": {
      "application/javascript": [
       "\n",
       "(function(global) {\n",
       "  function now() {\n",
       "    return new Date();\n",
       "  }\n",
       "\n",
       "  var force = true;\n",
       "\n",
       "  if (typeof (window._bokeh_onload_callbacks) === \"undefined\" || force === true) {\n",
       "    window._bokeh_onload_callbacks = [];\n",
       "    window._bokeh_is_loading = undefined;\n",
       "  }\n",
       "\n",
       "\n",
       "  \n",
       "  if (typeof (window._bokeh_timeout) === \"undefined\" || force === true) {\n",
       "    window._bokeh_timeout = Date.now() + 5000;\n",
       "    window._bokeh_failed_load = false;\n",
       "  }\n",
       "\n",
       "  var NB_LOAD_WARNING = {'data': {'text/html':\n",
       "     \"<div style='background-color: #fdd'>\\n\"+\n",
       "     \"<p>\\n\"+\n",
       "     \"BokehJS does not appear to have successfully loaded. If loading BokehJS from CDN, this \\n\"+\n",
       "     \"may be due to a slow or bad network connection. Possible fixes:\\n\"+\n",
       "     \"</p>\\n\"+\n",
       "     \"<ul>\\n\"+\n",
       "     \"<li>re-rerun `output_notebook()` to attempt to load from CDN again, or</li>\\n\"+\n",
       "     \"<li>use INLINE resources instead, as so:</li>\\n\"+\n",
       "     \"</ul>\\n\"+\n",
       "     \"<code>\\n\"+\n",
       "     \"from bokeh.resources import INLINE\\n\"+\n",
       "     \"output_notebook(resources=INLINE)\\n\"+\n",
       "     \"</code>\\n\"+\n",
       "     \"</div>\"}};\n",
       "\n",
       "  function display_loaded() {\n",
       "    if (window.Bokeh !== undefined) {\n",
       "      var el = document.getElementById(\"e31e126c-4b67-48a3-ba91-96861b0865c9\");\n",
       "      el.textContent = \"BokehJS \" + Bokeh.version + \" successfully loaded.\";\n",
       "    } else if (Date.now() < window._bokeh_timeout) {\n",
       "      setTimeout(display_loaded, 100)\n",
       "    }\n",
       "  }\n",
       "\n",
       "  function run_callbacks() {\n",
       "    window._bokeh_onload_callbacks.forEach(function(callback) { callback() });\n",
       "    delete window._bokeh_onload_callbacks\n",
       "    console.info(\"Bokeh: all callbacks have finished\");\n",
       "  }\n",
       "\n",
       "  function load_libs(js_urls, callback) {\n",
       "    window._bokeh_onload_callbacks.push(callback);\n",
       "    if (window._bokeh_is_loading > 0) {\n",
       "      console.log(\"Bokeh: BokehJS is being loaded, scheduling callback at\", now());\n",
       "      return null;\n",
       "    }\n",
       "    if (js_urls == null || js_urls.length === 0) {\n",
       "      run_callbacks();\n",
       "      return null;\n",
       "    }\n",
       "    console.log(\"Bokeh: BokehJS not loaded, scheduling load and callback at\", now());\n",
       "    window._bokeh_is_loading = js_urls.length;\n",
       "    for (var i = 0; i < js_urls.length; i++) {\n",
       "      var url = js_urls[i];\n",
       "      var s = document.createElement('script');\n",
       "      s.src = url;\n",
       "      s.async = false;\n",
       "      s.onreadystatechange = s.onload = function() {\n",
       "        window._bokeh_is_loading--;\n",
       "        if (window._bokeh_is_loading === 0) {\n",
       "          console.log(\"Bokeh: all BokehJS libraries loaded\");\n",
       "          run_callbacks()\n",
       "        }\n",
       "      };\n",
       "      s.onerror = function() {\n",
       "        console.warn(\"failed to load library \" + url);\n",
       "      };\n",
       "      console.log(\"Bokeh: injecting script tag for BokehJS library: \", url);\n",
       "      document.getElementsByTagName(\"head\")[0].appendChild(s);\n",
       "    }\n",
       "  };var element = document.getElementById(\"e31e126c-4b67-48a3-ba91-96861b0865c9\");\n",
       "  if (element == null) {\n",
       "    console.log(\"Bokeh: ERROR: autoload.js configured with elementid 'e31e126c-4b67-48a3-ba91-96861b0865c9' but no matching script tag was found. \")\n",
       "    return false;\n",
       "  }\n",
       "\n",
       "  var js_urls = [\"https://cdn.pydata.org/bokeh/release/bokeh-0.12.5.min.js\", \"https://cdn.pydata.org/bokeh/release/bokeh-widgets-0.12.5.min.js\"];\n",
       "\n",
       "  var inline_js = [\n",
       "    function(Bokeh) {\n",
       "      Bokeh.set_log_level(\"info\");\n",
       "    },\n",
       "    \n",
       "    function(Bokeh) {\n",
       "      \n",
       "    },\n",
       "    \n",
       "    function(Bokeh) {\n",
       "      \n",
       "      document.getElementById(\"e31e126c-4b67-48a3-ba91-96861b0865c9\").textContent = \"BokehJS is loading...\";\n",
       "    },\n",
       "    function(Bokeh) {\n",
       "      console.log(\"Bokeh: injecting CSS: https://cdn.pydata.org/bokeh/release/bokeh-0.12.5.min.css\");\n",
       "      Bokeh.embed.inject_css(\"https://cdn.pydata.org/bokeh/release/bokeh-0.12.5.min.css\");\n",
       "      console.log(\"Bokeh: injecting CSS: https://cdn.pydata.org/bokeh/release/bokeh-widgets-0.12.5.min.css\");\n",
       "      Bokeh.embed.inject_css(\"https://cdn.pydata.org/bokeh/release/bokeh-widgets-0.12.5.min.css\");\n",
       "    }\n",
       "  ];\n",
       "\n",
       "  function run_inline_js() {\n",
       "    \n",
       "    if ((window.Bokeh !== undefined) || (force === true)) {\n",
       "      for (var i = 0; i < inline_js.length; i++) {\n",
       "        inline_js[i](window.Bokeh);\n",
       "      }if (force === true) {\n",
       "        display_loaded();\n",
       "      }} else if (Date.now() < window._bokeh_timeout) {\n",
       "      setTimeout(run_inline_js, 100);\n",
       "    } else if (!window._bokeh_failed_load) {\n",
       "      console.log(\"Bokeh: BokehJS failed to load within specified timeout.\");\n",
       "      window._bokeh_failed_load = true;\n",
       "    } else if (force !== true) {\n",
       "      var cell = $(document.getElementById(\"e31e126c-4b67-48a3-ba91-96861b0865c9\")).parents('.cell').data().cell;\n",
       "      cell.output_area.append_execute_result(NB_LOAD_WARNING)\n",
       "    }\n",
       "\n",
       "  }\n",
       "\n",
       "  if (window._bokeh_is_loading === 0) {\n",
       "    console.log(\"Bokeh: BokehJS loaded, going straight to plotting\");\n",
       "    run_inline_js();\n",
       "  } else {\n",
       "    load_libs(js_urls, function() {\n",
       "      console.log(\"Bokeh: BokehJS plotting callback run at\", now());\n",
       "      run_inline_js();\n",
       "    });\n",
       "  }\n",
       "}(this));"
      ]
     },
     "metadata": {},
     "output_type": "display_data"
    }
   ],
   "source": [
    "import sys\n",
    "from importlib import reload\n",
    "from pathlib import Path\n",
    "from time import time\n",
    "\n",
    "import h5py as h5\n",
    "import numpy as np\n",
    "from scipy.signal import savgol_filter as savgol\n",
    "from scipy.stats import binned_statistic\n",
    "from scipy.stats.mstats import theilslopes\n",
    "\n",
    "import matplotlib.pyplot as plt\n",
    "import matplotlib\n",
    "import bokeh\n",
    "from bokeh.io import output_notebook, show\n",
    "from bokeh.plotting import figure\n",
    "\n",
    "sys.path.append('/reg/neh/home4/espov/python/datastorage/')\n",
    "import datastorage\n",
    "\n",
    "import ana_fun as ana\n",
    "\n",
    "\n",
    "output_notebook()\n",
    "\n",
    "#matplotlib.rcParams.keys()\n",
    "matplotlib.rcParams['figure.figsize'] = (10, 7)\n",
    "matplotlib.rc('font', size=14)\n",
    "COLOR = 'grey'\n",
    "matplotlib.rcParams['text.color'] = COLOR\n",
    "matplotlib.rcParams['axes.labelcolor'] = COLOR\n",
    "matplotlib.rcParams['xtick.color'] = COLOR\n",
    "matplotlib.rcParams['ytick.color'] = COLOR\n",
    "length = 8\n",
    "width = 1.5\n",
    "matplotlib.rcParams['xtick.major.size'] = length\n",
    "matplotlib.rcParams['ytick.major.size'] = length\n",
    "matplotlib.rcParams['xtick.major.width'] = width\n",
    "matplotlib.rcParams['ytick.major.width'] = width"
   ]
  },
  {
   "cell_type": "markdown",
   "metadata": {},
   "source": [
    "### Get data"
   ]
  },
  {
   "cell_type": "code",
   "execution_count": null,
   "metadata": {},
   "outputs": [],
   "source": [
    "\"\"\" Get timing tool data \"\"\"\n",
    "h5path = Path('/reg/d/psdm/SXR/sxri0414/res/automated_analysis_espov/hdf5')\n",
    "file = 'sxri0414run60.h5'\n",
    "fh5 = h5.File(h5path / file)\n",
    "\n",
    "file = str(h5path/file)\n",
    "#file = '/reg/g/psdm/sw/hutch/sxd/analysis_methods/eigen_background_subtraction/xpptut15run420.h5'\n",
    "data = datastorage.read(file)\n",
    "\n",
    "ttdata = data.timeToolOpal\n",
    "\n",
    "plt.plot(ttdata[:5,:].transpose())\n",
    "plt.title('Raw tt traces')\n",
    "plt.show()"
   ]
  },
  {
   "cell_type": "markdown",
   "metadata": {},
   "source": [
    "### Get dropshots and apply svd on them"
   ]
  },
  {
   "cell_type": "code",
   "execution_count": null,
   "metadata": {},
   "outputs": [],
   "source": [
    "u,s,v, bkgs = ana.get_svd_background(data, return_bkg=True)\n",
    "\n",
    "plt.figure()\n",
    "plt.title('Backgrounds')\n",
    "plt.plot(bkgs[0])\n",
    "plt.plot(bkgs[1])\n",
    "plt.plot(bkgs[2])\n",
    "plt.plot(bkgs[30])\n",
    "plt.show()\n",
    "\n",
    "plt.figure()\n",
    "plt.title('Eigen backgrounds')\n",
    "plt.plot(v[0])\n",
    "plt.plot(v[1])\n",
    "plt.plot(v[2])\n",
    "#plt.plot(v[30])\n",
    "plt.show()\n",
    "\n",
    "bkgs.shape"
   ]
  },
  {
   "cell_type": "markdown",
   "metadata": {},
   "source": [
    "### Subract svd background from timing tool traces"
   ]
  },
  {
   "cell_type": "code",
   "execution_count": null,
   "metadata": {},
   "outputs": [],
   "source": [
    "mask = ttdata.astype(bool)[1]\n",
    "mask[200:600] = False\n",
    "\n",
    "ttcorr = ana.subtract_svd_background(data, mask, svd_size=5)\n",
    "\n",
    "plt.plot(ttcorr[:3].transpose())\n",
    "plt.title('nb of svd components = 5')\n",
    "plt.show()"
   ]
  },
  {
   "cell_type": "code",
   "execution_count": null,
   "metadata": {},
   "outputs": [],
   "source": [
    "ttcorr = ana.subtract_svd_background(data, mask, svd_size=15)\n",
    "\n",
    "plt.plot(ttcorr[:3].transpose())\n",
    "plt.title('nb of svd components = 15')\n",
    "plt.show()"
   ]
  },
  {
   "cell_type": "code",
   "execution_count": null,
   "metadata": {},
   "outputs": [],
   "source": [
    "#ttcorr = ana.subtract_svd_background(data, mask, svd_size=40)\n",
    "\n",
    "#plt.plot(ttcorr[:3].transpose())\n",
    "#plt.title('nb of svd components = 40')\n",
    "#plt.show()"
   ]
  },
  {
   "cell_type": "code",
   "execution_count": null,
   "metadata": {},
   "outputs": [],
   "source": [
    "ttdiff = savgol(ttcorr, 25, 2, 1, axis=1)\n",
    "\n",
    "plt.plot(ttdiff[:3].transpose())\n",
    "plt.title('Diff of smoothed tt traces')\n",
    "plt.show()"
   ]
  },
  {
   "cell_type": "code",
   "execution_count": null,
   "metadata": {},
   "outputs": [],
   "source": [
    "ttdiff = -ttdiff\n",
    "ttdiff.shape"
   ]
  },
  {
   "cell_type": "markdown",
   "metadata": {},
   "source": [
    "### Find edge: fit peak demo"
   ]
  },
  {
   "cell_type": "markdown",
   "metadata": {},
   "source": [
    "#### Nonlinear least square"
   ]
  },
  {
   "cell_type": "code",
   "execution_count": null,
   "metadata": {},
   "outputs": [],
   "source": [
    "popt = []\n",
    "perr = [] \n",
    "\n",
    "for waveform in ttdiff[12:16]:\n",
    "    tpo, tpe = ana.fit_peak_parabola_nonlin(waveform, width_ratio=0.7, plot=True)\n",
    "    popt.append(tpo)\n",
    "    perr.append(perr)"
   ]
  },
  {
   "cell_type": "markdown",
   "metadata": {},
   "source": [
    "#### Linear least square"
   ]
  },
  {
   "cell_type": "code",
   "execution_count": null,
   "metadata": {},
   "outputs": [],
   "source": [
    "popt = []\n",
    "\n",
    "for waveform in ttdiff[12:16]:\n",
    "    tpo = ana.fit_peak_parabola_lin(waveform, width_ratio=0.7, plot=True)\n",
    "    popt.append(tpo)"
   ]
  },
  {
   "cell_type": "markdown",
   "metadata": {},
   "source": [
    "### Find edge: nonlin lsq"
   ]
  },
  {
   "cell_type": "code",
   "execution_count": null,
   "metadata": {},
   "outputs": [],
   "source": [
    "popt = []\n",
    "perr = [] \n",
    "\n",
    "start = time()\n",
    "for waveform in ttdiff[:]:\n",
    "    tpo, tpe = ana.fit_peak_parabola_nonlin(waveform, width_ratio=0.7, plot=False)\n",
    "    popt.append(tpo)\n",
    "    perr.append(tpe)\n",
    "end = time()\n",
    "print(\"Run time: {0:.0f}s\".format(end-start))\n",
    "    \n",
    "popt = np.asarray(popt)\n",
    "edgePos_nlin = popt[:,1]\n",
    "perr = np.asarray(perr)\n",
    "errPos_nlin = perr[:,1]\n",
    "plt.hist(edgePos_nlin[~np.isnan(edgePos_nlin)], bins=np.arange(0,1200,10))\n",
    "plt.title('Edge position')\n",
    "plt.show()\n",
    "\n",
    "plt.figure()\n",
    "temp = np.logical_or(np.isnan(errPos_nlin), np.isinf(errPos_nlin))\n",
    "plt.hist(errPos_nlin[~temp], bins=np.arange(0,1.5,0.02))\n",
    "plt.title('Edge error')\n",
    "plt.show()"
   ]
  },
  {
   "cell_type": "markdown",
   "metadata": {},
   "source": [
    "### Find edge: lin lsq"
   ]
  },
  {
   "cell_type": "code",
   "execution_count": null,
   "metadata": {},
   "outputs": [],
   "source": [
    "popt = []\n",
    "\n",
    "start = time()\n",
    "for waveform in ttdiff[:]:\n",
    "    tpo = ana.fit_peak_parabola_lin(waveform, width_ratio=0.7, plot=False)\n",
    "    popt.append(tpo)\n",
    "end = time()\n",
    "print(\"Run time: {0:.0f}s\".format(end-start))\n",
    "\n",
    "popt = np.asarray(popt)\n",
    "edgePos_lin = popt[:,1]\n",
    "plt.hist(edgePos_lin[~np.isnan(edgePos_lin)], bins=np.arange(0,1200,10))\n",
    "plt.title('Edge position')\n",
    "plt.show()"
   ]
  },
  {
   "cell_type": "markdown",
   "metadata": {},
   "source": [
    "### Check for nans and outliers, diagnostic"
   ]
  },
  {
   "cell_type": "code",
   "execution_count": null,
   "metadata": {},
   "outputs": [],
   "source": [
    "for edge in [edgePos_nlin, edgePos_lin]:\n",
    "    nans = np.sum(np.isnan(edge))\n",
    "    print(\"nans: {0:d}\".format(nans))\n",
    "    outliers = np.sum( np.logical_or((edge<200),(edge>500)) )\n",
    "    print(\"outliers: {0:d}\".format(outliers))\n",
    "    print(\"total: {0:d}\\n\".format(outliers+nans))"
   ]
  },
  {
   "cell_type": "code",
   "execution_count": null,
   "metadata": {},
   "outputs": [],
   "source": [
    "testWF = ana.find_nearest(edgePos_nlin[~np.isnan(edgePos_nlin)], 801)\n",
    "waveform = (ttdiff[~np.isnan(edgePos_nlin)])[testWF]\n",
    "tpo, tpe = ana.fit_peak_parabola_nonlin(waveform, width_ratio=0.7, plot=True)\n",
    "tpo"
   ]
  },
  {
   "cell_type": "code",
   "execution_count": null,
   "metadata": {},
   "outputs": [],
   "source": [
    "testWF = ana.find_nearest(edgePos_lin[~np.isnan(edgePos_lin)], 801)\n",
    "waveform = (ttdiff[~np.isnan(edgePos_lin)])[testWF]\n",
    "tpo = ana.fit_peak_parabola_lin(waveform, width_ratio=0.7, plot=True)\n",
    "tpo"
   ]
  },
  {
   "cell_type": "code",
   "execution_count": null,
   "metadata": {},
   "outputs": [],
   "source": []
  }
 ],
 "metadata": {
  "kernelspec": {
   "display_name": "Python 3 ana-1.2.9-py3",
   "language": "python",
   "name": "ana-1.2.9-py3"
  },
  "language_info": {
   "codemirror_mode": {
    "name": "ipython",
    "version": 3
   },
   "file_extension": ".py",
   "mimetype": "text/x-python",
   "name": "python",
   "nbconvert_exporter": "python",
   "pygments_lexer": "ipython3",
   "version": "3.5.3"
  }
 },
 "nbformat": 4,
 "nbformat_minor": 2
}
